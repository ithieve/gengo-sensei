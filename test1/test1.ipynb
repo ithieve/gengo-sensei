{
 "cells": [
  {
   "cell_type": "markdown",
   "id": "10c0986a",
   "metadata": {},
   "source": [
    "Imports"
   ]
  },
  {
   "cell_type": "code",
   "execution_count": 1,
   "id": "f73d9b8f",
   "metadata": {},
   "outputs": [],
   "source": [
    "from PIL import Image\n",
    "import os as os"
   ]
  },
  {
   "cell_type": "markdown",
   "id": "86b00b89",
   "metadata": {},
   "source": [
    "init"
   ]
  },
  {
   "cell_type": "code",
   "execution_count": 2,
   "id": "dd97eada",
   "metadata": {},
   "outputs": [],
   "source": [
    "filelist = []"
   ]
  },
  {
   "cell_type": "markdown",
   "id": "7e624673",
   "metadata": {},
   "source": [
    "file import"
   ]
  },
  {
   "cell_type": "code",
   "execution_count": 3,
   "id": "0c466b7b",
   "metadata": {},
   "outputs": [],
   "source": [
    "for root, directories, files in os.walk(\".\\input\", topdown=False):\n",
    "    for name in files:\n",
    "        path = os.path.join(root,name)\n",
    "        filelist.append(path)"
   ]
  },
  {
   "cell_type": "markdown",
   "id": "b186cc7b",
   "metadata": {},
   "source": [
    "Load images to an array"
   ]
  },
  {
   "cell_type": "code",
   "execution_count": 5,
   "id": "a08fa43b",
   "metadata": {},
   "outputs": [
    {
     "name": "stdout",
     "output_type": "stream",
     "text": [
      "[<PIL.JpegImagePlugin.JpegImageFile image mode=RGB size=827x1170 at 0x1EA0CE096D0>, <PIL.PngImagePlugin.PngImageFile image mode=RGB size=2100x2800 at 0x1EA0D05EA90>, <PIL.JpegImagePlugin.JpegImageFile image mode=RGB size=827x1170 at 0x1EA0D05EB80>, <PIL.PngImagePlugin.PngImageFile image mode=RGBA size=1440x1920 at 0x1EA0D05EC10>, <PIL.JpegImagePlugin.JpegImageFile image mode=RGB size=992x1618 at 0x1EA0D05EC40>, <PIL.PngImagePlugin.PngImageFile image mode=RGB size=2100x2800 at 0x1EA0D06A460>, <PIL.JpegImagePlugin.JpegImageFile image mode=RGB size=827x1170 at 0x1EA0D06A4F0>, <PIL.JpegImagePlugin.JpegImageFile image mode=RGB size=992x1618 at 0x1EA0D06A580>, <PIL.JpegImagePlugin.JpegImageFile image mode=L size=2072x3030 at 0x1EA0D06AAF0>, <PIL.JpegImagePlugin.JpegImageFile image mode=RGB size=992x1618 at 0x1EA0D06AB80>, <PIL.PngImagePlugin.PngImageFile image mode=P size=842x595 at 0x1EA0D06AB50>]\n"
     ]
    }
   ],
   "source": [
    "imagelist = []\n",
    "\n",
    "for path in filelist:\n",
    "    imagelist.append(Image.open(path))\n",
    "    \n",
    "for image in imagelist:\n",
    "    print(im.)"
   ]
  },
  {
   "cell_type": "code",
   "execution_count": null,
   "id": "f3e2cad1",
   "metadata": {},
   "outputs": [],
   "source": []
  },
  {
   "cell_type": "code",
   "execution_count": null,
   "id": "697b4263",
   "metadata": {},
   "outputs": [],
   "source": []
  }
 ],
 "metadata": {
  "kernelspec": {
   "display_name": "Python 3 (ipykernel)",
   "language": "python",
   "name": "python3"
  },
  "language_info": {
   "codemirror_mode": {
    "name": "ipython",
    "version": 3
   },
   "file_extension": ".py",
   "mimetype": "text/x-python",
   "name": "python",
   "nbconvert_exporter": "python",
   "pygments_lexer": "ipython3",
   "version": "3.9.5"
  }
 },
 "nbformat": 4,
 "nbformat_minor": 5
}
